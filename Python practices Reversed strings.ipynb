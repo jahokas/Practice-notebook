{
 "cells": [
  {
   "cell_type": "code",
   "execution_count": 23,
   "metadata": {},
   "outputs": [
    {
     "name": "stdout",
     "output_type": "stream",
     "text": [
      "IHGFEDCBA\n"
     ]
    }
   ],
   "source": [
    "my_string = \"ABCDEFGHI\"\n",
    "reversed_string = my_string[::-1]\n",
    "\n",
    "print(reversed_string)"
   ]
  },
  {
   "cell_type": "code",
   "execution_count": 36,
   "metadata": {},
   "outputs": [
    {
     "name": "stdout",
     "output_type": "stream",
     "text": [
      "IHGFEDCBA\n"
     ]
    }
   ],
   "source": [
    "new_string = my_string[::-1]\n",
    "\n",
    "print(new_string)"
   ]
  },
  {
   "cell_type": "code",
   "execution_count": 25,
   "metadata": {},
   "outputs": [
    {
     "name": "stdout",
     "output_type": "stream",
     "text": [
      "IGECA\n"
     ]
    }
   ],
   "source": [
    "new_reversed_string = my_string[::-2]\n",
    "\n",
    "print(new_reversed_string)"
   ]
  },
  {
   "cell_type": "code",
   "execution_count": 37,
   "metadata": {},
   "outputs": [
    {
     "name": "stdout",
     "output_type": "stream",
     "text": [
      "IHGFEDCBA\n"
     ]
    }
   ],
   "source": [
    "new_reversed_string_jumps = my_string[-1:-10:-1]\n",
    "\n",
    "print(new_reversed_string_jumps)"
   ]
  },
  {
   "cell_type": "code",
   "execution_count": 40,
   "metadata": {},
   "outputs": [
    {
     "name": "stdout",
     "output_type": "stream",
     "text": [
      "{'d', 'a', 'e', 'v', 'c'}\n",
      "daevc\n"
     ]
    }
   ],
   "source": [
    "my_string = \"aavvccccddddeee\"\n",
    "\n",
    "# converting the string to a set\n",
    "temp_set = set(my_string)\n",
    "\n",
    "# stitching set into a string using join\n",
    "new_string = ''.join(temp_set)\n",
    "\n",
    "print(temp_set)\n",
    "print(new_string)"
   ]
  },
  {
   "cell_type": "code",
   "execution_count": 41,
   "metadata": {},
   "outputs": [
    {
     "name": "stdout",
     "output_type": "stream",
     "text": [
      "[2, 4, 6, 8]\n"
     ]
    }
   ],
   "source": [
    "# Multiplying each element in a list by 2\n",
    "\n",
    "original_list = [1,2,3,4]\n",
    "\n",
    "new_list = [2*x for x in original_list]\n",
    "\n",
    "print(new_list)"
   ]
  },
  {
   "cell_type": "code",
   "execution_count": 48,
   "metadata": {},
   "outputs": [
    {
     "name": "stdout",
     "output_type": "stream",
     "text": [
      "2\n",
      "4\n",
      "6\n",
      "8\n"
     ]
    }
   ],
   "source": [
    "for x in original_list:\n",
    "    print(x*2)"
   ]
  },
  {
   "cell_type": "code",
   "execution_count": 49,
   "metadata": {},
   "outputs": [
    {
     "name": "stdout",
     "output_type": "stream",
     "text": [
      "My,name,is,Chaitanya,Baweja\n"
     ]
    }
   ],
   "source": [
    "list_of_strings = ['My', 'name', 'is', 'Chaitanya', 'Baweja']\n",
    "\n",
    "# Using join with the comma separator\n",
    "print(','.join(list_of_strings))"
   ]
  },
  {
   "cell_type": "code",
   "execution_count": 57,
   "metadata": {},
   "outputs": [
    {
     "name": "stdout",
     "output_type": "stream",
     "text": [
      "[('d', 5), ('b', 3), ('a', 2), ('c', 1)]\n"
     ]
    }
   ],
   "source": [
    "from collections import Counter\n",
    "my_list = ['a','a','b','b','b','c','d','d','d','d','d']\n",
    "my_list.count('a')\n",
    "count = Counter(my_list) # defining a counter object\n",
    "print(count.most_common()) # Of all elements\n"
   ]
  },
  {
   "cell_type": "code",
   "execution_count": null,
   "metadata": {},
   "outputs": [],
   "source": []
  }
 ],
 "metadata": {
  "kernelspec": {
   "display_name": "Python 3",
   "language": "python",
   "name": "python3"
  },
  "language_info": {
   "codemirror_mode": {
    "name": "ipython",
    "version": 3
   },
   "file_extension": ".py",
   "mimetype": "text/x-python",
   "name": "python",
   "nbconvert_exporter": "python",
   "pygments_lexer": "ipython3",
   "version": "3.7.4"
  }
 },
 "nbformat": 4,
 "nbformat_minor": 2
}
